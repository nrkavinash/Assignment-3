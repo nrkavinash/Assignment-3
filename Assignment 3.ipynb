{
 "cells": [
  {
   "cell_type": "markdown",
   "id": "a7e16247-f343-426c-aa59-f27fb042ac7d",
   "metadata": {},
   "source": [
    "\n",
    "# Q2 Answer\n",
    "## two tuple methods example"
   ]
  },
  {
   "cell_type": "code",
   "execution_count": 5,
   "id": "044eed81-56c2-4841-b3f4-1b7f639d4c9c",
   "metadata": {},
   "outputs": [],
   "source": [
    "t=(1,2,3,4,\"avi\",False,True)"
   ]
  },
  {
   "cell_type": "code",
   "execution_count": 6,
   "id": "bacd3e9b-51bf-4de4-a5ad-7666ec57b0d9",
   "metadata": {},
   "outputs": [
    {
     "data": {
      "text/plain": [
       "2"
      ]
     },
     "execution_count": 6,
     "metadata": {},
     "output_type": "execute_result"
    }
   ],
   "source": [
    "t.count(1) ## ans is '2' because in tuple in python consider True as (bool true)so that (bool True = 1, 1)"
   ]
  },
  {
   "cell_type": "code",
   "execution_count": 7,
   "id": "f317cc71-e5a3-4a58-ad35-82d4f99d4af2",
   "metadata": {},
   "outputs": [
    {
     "data": {
      "text/plain": [
       "1"
      ]
     },
     "execution_count": 7,
     "metadata": {},
     "output_type": "execute_result"
    }
   ],
   "source": [
    "t.count(0)## there is '0' in 't', but it consider bool False as '0',so the ans is 1"
   ]
  },
  {
   "cell_type": "code",
   "execution_count": 8,
   "id": "d2ff950f-945a-47d9-a6a2-4beed5a80a63",
   "metadata": {},
   "outputs": [
    {
     "data": {
      "text/plain": [
       "(1, 2, 3, 4, 'avi', False, True)"
      ]
     },
     "execution_count": 8,
     "metadata": {},
     "output_type": "execute_result"
    }
   ],
   "source": [
    "t\n"
   ]
  },
  {
   "cell_type": "code",
   "execution_count": 9,
   "id": "68df597e-38bd-4a6c-a417-059641886f43",
   "metadata": {},
   "outputs": [
    {
     "data": {
      "text/plain": [
       "5"
      ]
     },
     "execution_count": 9,
     "metadata": {},
     "output_type": "execute_result"
    }
   ],
   "source": [
    "t.index (0)## 0 the element in tuple 't'"
   ]
  },
  {
   "cell_type": "code",
   "execution_count": 10,
   "id": "9f4e1efe-22aa-4356-b12e-ee426cd002a8",
   "metadata": {},
   "outputs": [
    {
     "data": {
      "text/plain": [
       "3"
      ]
     },
     "execution_count": 10,
     "metadata": {},
     "output_type": "execute_result"
    }
   ],
   "source": [
    "t.index (4)"
   ]
  },
  {
   "cell_type": "markdown",
   "id": "51008b4d-6234-494b-b610-dddf182ad2dd",
   "metadata": {},
   "source": [
    "# Q3 Answer\n",
    "List is convert into sets"
   ]
  },
  {
   "cell_type": "code",
   "execution_count": 1,
   "id": "552fc0db-738d-4947-83af-6e13e2f32639",
   "metadata": {},
   "outputs": [],
   "source": [
    "List = [1, 1, 1, 2, 1, 3, 1, 4, 2, 1, 2, 2, 2, 3, 2, 4, 3, 1, 3, 2, 3, 3, 3, 4, 4, 1, 4, 2, 4, 3, 4, 4]"
   ]
  },
  {
   "cell_type": "code",
   "execution_count": 3,
   "id": "b2edf8e6-9919-449c-95f0-d9539f2cbcbd",
   "metadata": {},
   "outputs": [],
   "source": [
    "Sample_set = set(List)"
   ]
  },
  {
   "cell_type": "code",
   "execution_count": null,
   "id": "8e2eac70-05e9-40f6-9001-839e08e32190",
   "metadata": {},
   "outputs": [
    {
     "data": {
      "text/plain": [
       "{1, 2, 3, 4}"
      ]
     },
     "execution_count": 4,
     "metadata": {},
     "output_type": "execute_result"
    }
   ],
   "source": [
    "Sample_set "
   ]
  },
  {
   "cell_type": "markdown",
   "id": "14827daf-e313-4853-b8f7-701c835402c7",
   "metadata": {},
   "source": [
    "## Q4 Answer"
   ]
  },
  {
   "cell_type": "code",
   "execution_count": null,
   "id": "79e2ff91-f4c8-4266-ab1e-282031858418",
   "metadata": {},
   "outputs": [],
   "source": [
    "## .update() ,adds all the missing elements to the set , the return value of set.update() is NONE, seperately need to print out the set."
   ]
  },
  {
   "cell_type": "code",
   "execution_count": 19,
   "id": "5f1d6bf1-c465-4304-afa2-bd1512cffc9d",
   "metadata": {},
   "outputs": [],
   "source": [
    "avi = {1, 2, 3, 4}\n",
    "nash = {3, 4, 5}\n",
    "avi.update(nash)\n",
    "## "
   ]
  },
  {
   "cell_type": "code",
   "execution_count": 20,
   "id": "7ba99674-c189-44eb-854b-de156370ebeb",
   "metadata": {},
   "outputs": [
    {
     "data": {
      "text/plain": [
       "{1, 2, 3, 4, 5}"
      ]
     },
     "execution_count": 20,
     "metadata": {},
     "output_type": "execute_result"
    }
   ],
   "source": [
    "avi"
   ]
  },
  {
   "cell_type": "code",
   "execution_count": null,
   "id": "6b7f926b-c1ce-450c-b924-bd94bc6b5393",
   "metadata": {},
   "outputs": [],
   "source": [
    "## .union() creates new set and the return value of set.union is Set so there no need print out the set, set remains unchanged"
   ]
  },
  {
   "cell_type": "code",
   "execution_count": 24,
   "id": "6e887aa8-e6f7-4ed0-81cf-7a88d4428030",
   "metadata": {},
   "outputs": [
    {
     "data": {
      "text/plain": [
       "{1, 2, 3}"
      ]
     },
     "execution_count": 24,
     "metadata": {},
     "output_type": "execute_result"
    }
   ],
   "source": [
    "A = {1, 2}\n",
    "A.union({1, 2, 3})\n"
   ]
  },
  {
   "cell_type": "markdown",
   "id": "97f22ac3-b952-45af-b1af-796f635a374d",
   "metadata": {},
   "source": [
    "# Q5 Answer "
   ]
  },
  {
   "cell_type": "code",
   "execution_count": 30,
   "id": "19607f87-ec3e-4144-93c3-003cc941e3c6",
   "metadata": {},
   "outputs": [],
   "source": [
    "d1 = {'name': 'Avi', 'age': 27, 'marks': 60, 'course': 'Mechanical Engg'}\n",
    "\n"
   ]
  },
  {
   "cell_type": "code",
   "execution_count": 27,
   "id": "3532a3c4-db8e-4eef-ba71-7451cb55f294",
   "metadata": {},
   "outputs": [
    {
     "data": {
      "text/plain": [
       "dict_keys(['name', 'age', 'marks', 'course'])"
      ]
     },
     "execution_count": 27,
     "metadata": {},
     "output_type": "execute_result"
    }
   ],
   "source": [
    "d1.keys()"
   ]
  },
  {
   "cell_type": "code",
   "execution_count": 28,
   "id": "4c0c4c99-2532-4bbd-a05b-9570e4b5deb4",
   "metadata": {},
   "outputs": [
    {
     "data": {
      "text/plain": [
       "dict_values(['Avi', 27, 60, 'Mechanical Engg'])"
      ]
     },
     "execution_count": 28,
     "metadata": {},
     "output_type": "execute_result"
    }
   ],
   "source": [
    "d1.values()"
   ]
  },
  {
   "cell_type": "markdown",
   "id": "d93ccaed-27cd-4a69-b6fd-84dc995b7c10",
   "metadata": {},
   "source": [
    "# Q6 Answer\n",
    "## Nested Dictionary"
   ]
  },
  {
   "cell_type": "code",
   "execution_count": 31,
   "id": "1634d0b1-4077-4654-a54f-9cd7ffcf0c5f",
   "metadata": {},
   "outputs": [],
   "source": [
    "d1={1: {'name': 'John', 'age': '27', 'sex': 'Male'}, 2: {'name': 'Marie', 'age': '22', 'sex': 'Female'}}\n",
    "\n"
   ]
  },
  {
   "cell_type": "code",
   "execution_count": 32,
   "id": "abef214b-3eff-47ad-9f58-c6fcbfc65de9",
   "metadata": {},
   "outputs": [
    {
     "data": {
      "text/plain": [
       "{1: {'name': 'John', 'age': '27', 'sex': 'Male'},\n",
       " 2: {'name': 'Marie', 'age': '22', 'sex': 'Female'}}"
      ]
     },
     "execution_count": 32,
     "metadata": {},
     "output_type": "execute_result"
    }
   ],
   "source": [
    "d1"
   ]
  },
  {
   "cell_type": "code",
   "execution_count": 33,
   "id": "317a766c-0cb0-47a4-9f67-5fc67ed7c4bc",
   "metadata": {},
   "outputs": [
    {
     "data": {
      "text/plain": [
       "dict"
      ]
     },
     "execution_count": 33,
     "metadata": {},
     "output_type": "execute_result"
    }
   ],
   "source": [
    "type (d1)"
   ]
  },
  {
   "cell_type": "markdown",
   "id": "ed670cf8-f820-44b0-9db8-0e7fa273d02d",
   "metadata": {},
   "source": [
    "## Q8 Answer"
   ]
  },
  {
   "cell_type": "code",
   "execution_count": 35,
   "id": "ad25be02-c31a-4311-a668-b911701cb0b2",
   "metadata": {},
   "outputs": [],
   "source": [
    "dict1 = {'Sport': 'Cricket' , 'Teams': ['India', 'Australia', 'England', 'South Africa', 'Sri Lanka', 'New Zealand']}"
   ]
  },
  {
   "cell_type": "code",
   "execution_count": 36,
   "id": "c03b156b-9911-465e-a855-1e436e069834",
   "metadata": {},
   "outputs": [
    {
     "data": {
      "text/plain": [
       "dict_keys(['Sport', 'Teams'])"
      ]
     },
     "execution_count": 36,
     "metadata": {},
     "output_type": "execute_result"
    }
   ],
   "source": [
    "dict1.keys()"
   ]
  },
  {
   "cell_type": "code",
   "execution_count": 38,
   "id": "2fb67f80-f1f8-443a-a91f-e57e6fb6c9bf",
   "metadata": {},
   "outputs": [
    {
     "data": {
      "text/plain": [
       "dict_values(['Cricket', ['India', 'Australia', 'England', 'South Africa', 'Sri Lanka', 'New Zealand']])"
      ]
     },
     "execution_count": 38,
     "metadata": {},
     "output_type": "execute_result"
    }
   ],
   "source": [
    "dict1.values()"
   ]
  },
  {
   "cell_type": "code",
   "execution_count": 40,
   "id": "9cb3fbba-dfaa-49ea-9316-b44aee8e858e",
   "metadata": {},
   "outputs": [
    {
     "data": {
      "text/plain": [
       "dict_items([('Sport', 'Cricket'), ('Teams', ['India', 'Australia', 'England', 'South Africa', 'Sri Lanka', 'New Zealand'])])"
      ]
     },
     "execution_count": 40,
     "metadata": {},
     "output_type": "execute_result"
    }
   ],
   "source": [
    "dict1.items()"
   ]
  },
  {
   "cell_type": "markdown",
   "id": "7022efaa-4f8e-4ca6-bbc8-237a529858a9",
   "metadata": {},
   "source": [
    "### Q7 Answer"
   ]
  },
  {
   "cell_type": "code",
   "execution_count": 41,
   "id": "2c70e302-3e0d-440b-ad1b-e6dd7b893dee",
   "metadata": {},
   "outputs": [],
   "source": [
    "\n",
    "dict1 = {'language' : 'Python', 'course': 'Data Science Masters'}"
   ]
  },
  {
   "cell_type": "code",
   "execution_count": 42,
   "id": "2e1b1900-1216-4786-b58c-122fb960e39e",
   "metadata": {},
   "outputs": [],
   "source": [
    "dict2 = {'language':[\"Python\", \"Machine Learning\",\"Deep Learning\"]}"
   ]
  },
  {
   "cell_type": "code",
   "execution_count": 44,
   "id": "8d6c1cac-3e94-4e45-ab95-c95805f52252",
   "metadata": {},
   "outputs": [],
   "source": [
    "dict1.update(dict2)"
   ]
  },
  {
   "cell_type": "code",
   "execution_count": 45,
   "id": "ff25abd6-9781-40c1-a92a-fd1275311b2a",
   "metadata": {},
   "outputs": [
    {
     "data": {
      "text/plain": [
       "{'language': ['Python', 'Machine Learning', 'Deep Learning'],\n",
       " 'course': 'Data Science Masters'}"
      ]
     },
     "execution_count": 45,
     "metadata": {},
     "output_type": "execute_result"
    }
   ],
   "source": [
    "dict1"
   ]
  },
  {
   "cell_type": "code",
   "execution_count": 48,
   "id": "9f0bee3b-5d09-4c44-8f90-5f451d535b1b",
   "metadata": {},
   "outputs": [
    {
     "data": {
      "text/plain": [
       "{'language': ['Python', 'Machine Learning', 'Deep Learning'],\n",
       " 'course': 'Data Science Masters'}"
      ]
     },
     "execution_count": 48,
     "metadata": {},
     "output_type": "execute_result"
    }
   ],
   "source": [
    "dict1"
   ]
  },
  {
   "cell_type": "code",
   "execution_count": 49,
   "id": "f181ae9b-d1a9-48ce-8eb3-bce8b7c4c416",
   "metadata": {},
   "outputs": [
    {
     "data": {
      "text/plain": [
       "['Python', 'Machine Learning', 'Deep Learning']"
      ]
     },
     "execution_count": 49,
     "metadata": {},
     "output_type": "execute_result"
    }
   ],
   "source": [
    "dict1[\"language\"]"
   ]
  },
  {
   "cell_type": "code",
   "execution_count": 50,
   "id": "70fb2d58-f8cb-456e-90a8-abf4c40e631e",
   "metadata": {},
   "outputs": [
    {
     "data": {
      "text/plain": [
       "list"
      ]
     },
     "execution_count": 50,
     "metadata": {},
     "output_type": "execute_result"
    }
   ],
   "source": [
    "type(dict1[\"language\"])"
   ]
  },
  {
   "cell_type": "code",
   "execution_count": null,
   "id": "23e6222f-d0dc-4ba0-9502-57af99fe7821",
   "metadata": {},
   "outputs": [],
   "source": []
  }
 ],
 "metadata": {
  "kernelspec": {
   "display_name": "Python 3 (ipykernel)",
   "language": "python",
   "name": "python3"
  },
  "language_info": {
   "codemirror_mode": {
    "name": "ipython",
    "version": 3
   },
   "file_extension": ".py",
   "mimetype": "text/x-python",
   "name": "python",
   "nbconvert_exporter": "python",
   "pygments_lexer": "ipython3",
   "version": "3.10.8"
  }
 },
 "nbformat": 4,
 "nbformat_minor": 5
}
